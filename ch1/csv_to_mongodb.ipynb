{
 "cells": [
  {
   "cell_type": "code",
   "execution_count": 11,
   "metadata": {},
   "outputs": [],
   "source": [
    "import json, csv\n",
    "import conn\n",
    "\n",
    "def read_dict(f):\n",
    "    input_file = csv.DictReader(open(f))\n",
    "    return (input_file)\n",
    "\n",
    "def conv_reg_dict(d):\n",
    "    return [dict(x) for x in d]\n",
    "\n",
    "def dump_json(f, d):\n",
    "    with open(f, 'w') as f:\n",
    "        json.dump(d, f)\n",
    "\n",
    "def read_json(f):\n",
    "    with open(f) as f:\n",
    "        return json.load(f)\n",
    "\n",
    "if __name__ == '__main__':\n",
    "    f = 'PVA.csv'\n",
    "    #headers = ['first', 'last']\n",
    "    r_dict = read_dict(f)\n",
    "    dict_ls = conv_reg_dict(r_dict)\n",
    "    json_file = 'PVA.json'\n",
    "    dump_json(json_file, dict_ls)\n",
    "    data = read_json(json_file)\n",
    "    obj = conn.conn('mcklayne')\n",
    "    db = obj.getDB()\n",
    "    pva = db.pva\n",
    "    pva.drop()\n",
    "    for i, row in enumerate(data):\n",
    "        row['_id'] = i\n",
    "        pva.insert_one(row)\n",
    "    \n",
    "   "
   ]
  },
  {
   "cell_type": "code",
   "execution_count": null,
   "metadata": {},
   "outputs": [],
   "source": []
  }
 ],
 "metadata": {
  "kernelspec": {
   "display_name": "Python 3",
   "language": "python",
   "name": "python3"
  },
  "language_info": {
   "codemirror_mode": {
    "name": "ipython",
    "version": 3
   },
   "file_extension": ".py",
   "mimetype": "text/x-python",
   "name": "python",
   "nbconvert_exporter": "python",
   "pygments_lexer": "ipython3",
   "version": "3.7.1"
  }
 },
 "nbformat": 4,
 "nbformat_minor": 2
}
